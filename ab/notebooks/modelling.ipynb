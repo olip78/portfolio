{
 "cells": [
  {
   "cell_type": "markdown",
   "id": "90d4f5a4",
   "metadata": {},
   "source": [
    "# Weekly user sales prediction for CUPED\n",
    "\n",
    "The notebook is to develop the sales forecasting model needed for CUPED."
   ]
  },
  {
   "cell_type": "code",
   "execution_count": 9,
   "id": "0f3e734d",
   "metadata": {},
   "outputs": [],
   "source": [
    "import os\n",
    "import json\n",
    "\n",
    "import pandas as pd\n",
    "import numpy as np\n",
    "import catboost as cb\n",
    "from itertools import product\n",
    "\n",
    "from sklearn.metrics import mean_squared_error, r2_score\n",
    "\n",
    "import matplotlib.pyplot as plt\n",
    "import seaborn as sns\n",
    "\n",
    "import mlflow\n",
    "\n",
    "import sys\n",
    "sys.path.append('..')\n",
    "\n",
    "sns.set_theme(\"paper\")"
   ]
  },
  {
   "cell_type": "code",
   "execution_count": 10,
   "id": "f55e2dcd",
   "metadata": {},
   "outputs": [],
   "source": [
    "import warnings\n",
    "warnings.filterwarnings('ignore')\n",
    "\n",
    "from lib.utils import filter_outliers,  get_week_sales, get_data_set, load_json, save_json\n",
    "\n",
    "PATH_DF_USERS = '../../data/df_users.csv'\n",
    "PATH_DF_SALES = '../../data/df_sales.csv'"
   ]
  },
  {
   "cell_type": "code",
   "execution_count": 11,
   "id": "3d63397e",
   "metadata": {},
   "outputs": [],
   "source": [
    "os.environ[\"MLFLOW_S3_ENDPOINT_URL\"]=\"http://5.75.236.176:9000\"\n",
    "os.environ[\"MLFLOW_TRACKING_URI\"]=\"http://5.75.236.176:5001\"\n",
    "os.environ[\"AWS_ACCESS_KEY_ID\"]=\"IAM_ACCESS_KEY\"\n",
    "os.environ[\"AWS_SECRET_ACCESS_KEY\"]=\"IAM_SECRET_KEY\"\n",
    "\n",
    "mlflow.set_tracking_uri(\"http://5.75.236.176:5001\")\n",
    "client = mlflow.tracking.MlflowClient()\n",
    "\n",
    "experiment = client.get_experiment_by_name(\"cuped_sales_predicton\")"
   ]
  },
  {
   "cell_type": "code",
   "execution_count": 12,
   "id": "b1ada5b9",
   "metadata": {},
   "outputs": [],
   "source": [
    "users = pd.read_csv(PATH_DF_USERS)\n",
    "sales = pd.read_csv(PATH_DF_SALES)"
   ]
  },
  {
   "cell_type": "code",
   "execution_count": 13,
   "id": "f9e36e0c",
   "metadata": {},
   "outputs": [],
   "source": [
    "week_sales = get_week_sales(sales)"
   ]
  },
  {
   "cell_type": "code",
   "execution_count": 14,
   "id": "dac555a3",
   "metadata": {},
   "outputs": [],
   "source": [
    "features = ['sales_2', 'sales_4', 'sales_1', 'sales_3', \n",
    "            'n_2', 'n_4', \n",
    "            'last_sale_1', 'last_sale_2', 'last_sale_3', 'last_sale_4',  \n",
    "            'mean_sale_4',\n",
    "            'age', \n",
    "            'week_type', 'first_day', 'week'\n",
    "           ]"
   ]
  },
  {
   "cell_type": "code",
   "execution_count": 15,
   "id": "9ecb3cb6",
   "metadata": {
    "scrolled": false
   },
   "outputs": [],
   "source": [
    "# T=6 validation \n",
    "# T=7 prod\n",
    "\n",
    "def train_model(week_sales, T, vatidation=True, iterations=None, features=features):\n",
    "    global experiment\n",
    "    \n",
    "    weeks_in = [T-2, T-1]\n",
    "\n",
    "    for tau in [T-2, T-1, T]:\n",
    "        week_sales = filter_outliers(week_sales, tau, interval=[50, 7500])\n",
    "\n",
    "    all_users = users.user_id.unique()\n",
    "\n",
    "    users_train = np.random.choice(all_users, 750000, False)\n",
    "    ws_train = get_data_set(week_sales[week_sales.user_id.isin(users_train)],\n",
    "                            users[users.user_id.isin(users_train)],\n",
    "                            weeks_in=weeks_in)\n",
    "\n",
    "    df = ws_train[ws_train['sales']>0]\n",
    "    X_train = df.loc[:, features]\n",
    "    y_train = df.loc[:, 'sales']\n",
    "\n",
    "    users_test = np.random.choice(all_users, 450000, False)\n",
    "    ws_test = get_data_set(week_sales[week_sales.user_id.isin(users_test)],\n",
    "                            users[users.user_id.isin(users_test)],\n",
    "                            weeks_in=[T])\n",
    "\n",
    "    df = ws_test[ws_test['sales']>0]\n",
    "    X_test = df.loc[:, features]\n",
    "    y_test = df.loc[:, 'sales']\n",
    "\n",
    "    train_dataset = cb.Pool(X_train, y_train, cat_features=['age'])\n",
    "    test_dataset = cb.Pool(X_test, y_test, cat_features=['age'])\n",
    "\n",
    "    params = {'loss_function': 'RMSE',\n",
    "              'iterations': 2000,\n",
    "              'learning_rate': 0.15,\n",
    "              'verbose': 100,\n",
    "             }\n",
    "\n",
    "    with mlflow.start_run(experiment_id=experiment.experiment_id, run_name='sales_prediction') as run:\n",
    "        mlflow.log_param('features', features)\n",
    "        if vatidation: \n",
    "            model = cb.CatBoostRegressor(**params)\n",
    "            model.fit(train_dataset, \n",
    "                      eval_set=test_dataset,\n",
    "                      early_stopping_rounds=50,\n",
    "                     )\n",
    "            \n",
    "            mlflow.catboost.log_model(model, 'sales_prediction_cuped_hard_ml'+'_'+str(T))\n",
    "\n",
    "            pred = model.predict(X_test)\n",
    "            print('\\n')\n",
    "            print(f'rmse: {np.sqrt(mean_squared_error(y_test, pred))}, r2: {r2_score(y_test, pred)}')\n",
    "        else:\n",
    "            params['verbose'] = False\n",
    "            params['iterations'] = iterations\n",
    "\n",
    "            model = cb.CatBoostRegressor(**params)\n",
    "            model.fit(train_dataset)\n",
    "            mlflow.catboost.log_model(model, 'sales_prediction_cuped_hard_ml'+'_'+str(T))\n",
    "    \n",
    "    return model, X_test.columns"
   ]
  },
  {
   "cell_type": "code",
   "execution_count": 16,
   "id": "cd406493",
   "metadata": {},
   "outputs": [
    {
     "name": "stdout",
     "output_type": "stream",
     "text": [
      "0:\tlearn: 957.5122440\ttest: 991.5586326\tbest: 991.5586326 (0)\ttotal: 178ms\tremaining: 5m 55s\n",
      "100:\tlearn: 404.9927655\ttest: 465.7797130\tbest: 465.7797130 (100)\ttotal: 8.64s\tremaining: 2m 42s\n",
      "200:\tlearn: 392.7843276\ttest: 450.0681589\tbest: 450.0681589 (200)\ttotal: 16.6s\tremaining: 2m 28s\n",
      "300:\tlearn: 388.1891647\ttest: 444.6207442\tbest: 444.6207442 (300)\ttotal: 24.5s\tremaining: 2m 18s\n",
      "400:\tlearn: 385.4323331\ttest: 441.5997223\tbest: 441.5997223 (400)\ttotal: 32.4s\tremaining: 2m 9s\n",
      "500:\tlearn: 383.6334113\ttest: 439.5655928\tbest: 439.5655928 (500)\ttotal: 40.5s\tremaining: 2m 1s\n",
      "600:\tlearn: 382.2007750\ttest: 438.3072798\tbest: 438.2933375 (599)\ttotal: 48.4s\tremaining: 1m 52s\n",
      "700:\tlearn: 380.7989591\ttest: 437.1675019\tbest: 437.1664052 (699)\ttotal: 56.2s\tremaining: 1m 44s\n",
      "800:\tlearn: 379.6221147\ttest: 436.4656874\tbest: 436.4292898 (791)\ttotal: 1m 3s\tremaining: 1m 35s\n",
      "900:\tlearn: 378.7020296\ttest: 435.9092201\tbest: 435.9092201 (900)\ttotal: 1m 11s\tremaining: 1m 27s\n",
      "1000:\tlearn: 377.8559250\ttest: 435.5710117\tbest: 435.5433546 (996)\ttotal: 1m 19s\tremaining: 1m 19s\n",
      "1100:\tlearn: 376.9264632\ttest: 434.9992887\tbest: 434.9992887 (1100)\ttotal: 1m 27s\tremaining: 1m 11s\n",
      "1200:\tlearn: 376.1851708\ttest: 434.7036839\tbest: 434.7000177 (1199)\ttotal: 1m 35s\tremaining: 1m 3s\n",
      "1300:\tlearn: 375.4762453\ttest: 434.3382956\tbest: 434.3321503 (1298)\ttotal: 1m 42s\tremaining: 55.2s\n",
      "1400:\tlearn: 374.8529525\ttest: 434.1605428\tbest: 434.1571911 (1398)\ttotal: 1m 50s\tremaining: 47.2s\n",
      "1500:\tlearn: 374.2239134\ttest: 433.8682957\tbest: 433.8399471 (1496)\ttotal: 1m 58s\tremaining: 39.3s\n",
      "1600:\tlearn: 373.6828964\ttest: 433.7036401\tbest: 433.7007108 (1594)\ttotal: 2m 6s\tremaining: 31.4s\n",
      "1700:\tlearn: 373.1546484\ttest: 433.5792418\tbest: 433.5389976 (1694)\ttotal: 2m 13s\tremaining: 23.5s\n",
      "1800:\tlearn: 372.6636627\ttest: 433.4818238\tbest: 433.4256215 (1761)\ttotal: 2m 21s\tremaining: 15.6s\n",
      "Stopped by overfitting detector  (50 iterations wait)\n",
      "\n",
      "bestTest = 433.4256215\n",
      "bestIteration = 1761\n",
      "\n",
      "Shrink model to first 1762 iterations.\n",
      "\n",
      "\n",
      "rmse: 433.42562152927167, r2: 0.8389583048975028\n"
     ]
    }
   ],
   "source": [
    "model, feaures = train_model(week_sales, T=6, vatidation=True)"
   ]
  },
  {
   "cell_type": "code",
   "execution_count": 17,
   "id": "dd0eb88b",
   "metadata": {},
   "outputs": [
    {
     "data": {
      "text/plain": [
       "Text(0.5, 1.0, 'Feature Importance')"
      ]
     },
     "execution_count": 17,
     "metadata": {},
     "output_type": "execute_result"
    },
    {
     "data": {
      "image/png": "[encoded data removed]",
      "text/plain": [
       "<Figure size 800x400 with 1 Axes>"
      ]
     },
     "metadata": {},
     "output_type": "display_data"
    }
   ],
   "source": [
    "feature_importance = model.feature_importances_\n",
    "sorted_idx = np.argsort(feature_importance)\n",
    "fig = plt.figure(figsize=(8, 4))\n",
    "plt.barh(range(len(sorted_idx)), feature_importance[sorted_idx], align='center')\n",
    "plt.yticks(range(len(sorted_idx)), np.array(features)[sorted_idx])\n",
    "plt.title('Feature Importance')"
   ]
  },
  {
   "cell_type": "code",
   "execution_count": 18,
   "id": "5b546579",
   "metadata": {},
   "outputs": [],
   "source": [
    "model_prod, _ = train_model(week_sales, T=7, vatidation=False, iterations=1500)"
   ]
  }
 ],
 "metadata": {
  "kernelspec": {
   "display_name": "hard_ml",
   "language": "python",
   "name": "hard_ml"
  },
  "language_info": {
   "codemirror_mode": {
    "name": "ipython",
    "version": 3
   },
   "file_extension": ".py",
   "mimetype": "text/x-python",
   "name": "python",
   "nbconvert_exporter": "python",
   "pygments_lexer": "ipython3",
   "version": "3.10.6"
  }
 },
 "nbformat": 4,
 "nbformat_minor": 5
}
